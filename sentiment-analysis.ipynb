{
 "cells": [
  {
   "cell_type": "code",
   "id": "initial_id",
   "metadata": {
    "collapsed": true,
    "ExecuteTime": {
     "end_time": "2025-08-15T05:18:07.075867Z",
     "start_time": "2025-08-15T05:18:06.944142Z"
    }
   },
   "source": [
    "import pandas as pd\n",
    "\n",
    "books = pd.read_csv('books_with_categories.csv')"
   ],
   "outputs": [],
   "execution_count": 2
  },
  {
   "metadata": {
    "ExecuteTime": {
     "end_time": "2025-08-15T05:18:35.817593Z",
     "start_time": "2025-08-15T05:18:07.131504Z"
    }
   },
   "cell_type": "code",
   "source": [
    "from transformers import pipeline\n",
    "classifier = pipeline(\"text-classification\", model=\"j-hartmann/emotion-english-distilroberta-base\",\n",
    "                      top_k=None)\n",
    "classifier(\"I love this!\")"
   ],
   "id": "f1f6ed3362f5a5b",
   "outputs": [
    {
     "name": "stderr",
     "output_type": "stream",
     "text": [
      "Device set to use cpu\n"
     ]
    },
    {
     "data": {
      "text/plain": [
       "[[{'label': 'joy', 'score': 0.9771687984466553},\n",
       "  {'label': 'surprise', 'score': 0.008528688922524452},\n",
       "  {'label': 'neutral', 'score': 0.005764586851000786},\n",
       "  {'label': 'anger', 'score': 0.004419783595949411},\n",
       "  {'label': 'sadness', 'score': 0.002092392183840275},\n",
       "  {'label': 'disgust', 'score': 0.0016119893407449126},\n",
       "  {'label': 'fear', 'score': 0.0004138524236623198}]]"
      ]
     },
     "execution_count": 3,
     "metadata": {},
     "output_type": "execute_result"
    }
   ],
   "execution_count": 3
  },
  {
   "metadata": {
    "ExecuteTime": {
     "end_time": "2025-08-15T05:18:35.986222Z",
     "start_time": "2025-08-15T05:18:35.938719Z"
    }
   },
   "cell_type": "code",
   "source": "books[\"description\"][0]",
   "id": "106ca201d9c8a0be",
   "outputs": [
    {
     "data": {
      "text/plain": [
       "'A NOVEL THAT READERS and critics have been eagerly anticipating for over a decade, Gilead is an astonishingly imagined story of remarkable lives. John Ames is a preacher, the son of a preacher and the grandson (both maternal and paternal) of preachers. It’s 1956 in Gilead, Iowa, towards the end of the Reverend Ames’s life, and he is absorbed in recording his family’s story, a legacy for the young son he will never see grow up. Haunted by his grandfather’s presence, John tells of the rift between his grandfather and his father: the elder, an angry visionary who fought for the abolitionist cause, and his son, an ardent pacifist. He is troubled, too, by his prodigal namesake, Jack (John Ames) Boughton, his best friend’s lost son who returns to Gilead searching for forgiveness and redemption. Told in John Ames’s joyous, rambling voice that finds beauty, humour and truth in the smallest of life’s details, Gilead is a song of celebration and acceptance of the best and the worst the world has to offer. At its heart is a tale of the sacred bonds between fathers and sons, pitch-perfect in style and story, set to dazzle critics and readers alike.'"
      ]
     },
     "execution_count": 4,
     "metadata": {},
     "output_type": "execute_result"
    }
   ],
   "execution_count": 4
  },
  {
   "metadata": {
    "ExecuteTime": {
     "end_time": "2025-08-15T05:18:36.935089Z",
     "start_time": "2025-08-15T05:18:36.500476Z"
    }
   },
   "cell_type": "code",
   "source": "classifier(books[\"description\"][0])",
   "id": "f31ec9faea1a14e8",
   "outputs": [
    {
     "data": {
      "text/plain": [
       "[[{'label': 'fear', 'score': 0.6548405885696411},\n",
       "  {'label': 'neutral', 'score': 0.16985228657722473},\n",
       "  {'label': 'sadness', 'score': 0.11640921980142593},\n",
       "  {'label': 'surprise', 'score': 0.02070065587759018},\n",
       "  {'label': 'disgust', 'score': 0.019100677222013474},\n",
       "  {'label': 'joy', 'score': 0.01516144908964634},\n",
       "  {'label': 'anger', 'score': 0.003935146611183882}]]"
      ]
     },
     "execution_count": 5,
     "metadata": {},
     "output_type": "execute_result"
    }
   ],
   "execution_count": 5
  },
  {
   "metadata": {
    "ExecuteTime": {
     "end_time": "2025-08-15T05:18:38.152499Z",
     "start_time": "2025-08-15T05:18:36.973075Z"
    }
   },
   "cell_type": "code",
   "source": [
    "##split the description into multiple sentences to get a more accurate results.\n",
    "classifier(books[\"description\"][0].split(\".\"))"
   ],
   "id": "f61e3b73230aa75c",
   "outputs": [
    {
     "data": {
      "text/plain": [
       "[[{'label': 'surprise', 'score': 0.7296020984649658},\n",
       "  {'label': 'neutral', 'score': 0.14038600027561188},\n",
       "  {'label': 'fear', 'score': 0.06816228479146957},\n",
       "  {'label': 'joy', 'score': 0.04794260859489441},\n",
       "  {'label': 'anger', 'score': 0.009156366810202599},\n",
       "  {'label': 'disgust', 'score': 0.0026284765917807817},\n",
       "  {'label': 'sadness', 'score': 0.002122163539752364}],\n",
       " [{'label': 'neutral', 'score': 0.44937002658843994},\n",
       "  {'label': 'disgust', 'score': 0.27359163761138916},\n",
       "  {'label': 'joy', 'score': 0.10908330976963043},\n",
       "  {'label': 'sadness', 'score': 0.09362746775150299},\n",
       "  {'label': 'anger', 'score': 0.04047830402851105},\n",
       "  {'label': 'surprise', 'score': 0.026970159262418747},\n",
       "  {'label': 'fear', 'score': 0.006879047024995089}],\n",
       " [{'label': 'neutral', 'score': 0.6462159752845764},\n",
       "  {'label': 'sadness', 'score': 0.24273329973220825},\n",
       "  {'label': 'disgust', 'score': 0.04342271760106087},\n",
       "  {'label': 'surprise', 'score': 0.028300564736127853},\n",
       "  {'label': 'joy', 'score': 0.014211472123861313},\n",
       "  {'label': 'fear', 'score': 0.0140841044485569},\n",
       "  {'label': 'anger', 'score': 0.011031901463866234}],\n",
       " [{'label': 'fear', 'score': 0.9281681180000305},\n",
       "  {'label': 'anger', 'score': 0.032191041857004166},\n",
       "  {'label': 'neutral', 'score': 0.01280867587774992},\n",
       "  {'label': 'sadness', 'score': 0.008756861090660095},\n",
       "  {'label': 'surprise', 'score': 0.008597906678915024},\n",
       "  {'label': 'disgust', 'score': 0.008431818336248398},\n",
       "  {'label': 'joy', 'score': 0.0010455837473273277}],\n",
       " [{'label': 'sadness', 'score': 0.9671575427055359},\n",
       "  {'label': 'neutral', 'score': 0.015104127116501331},\n",
       "  {'label': 'disgust', 'score': 0.006480589509010315},\n",
       "  {'label': 'fear', 'score': 0.005393980070948601},\n",
       "  {'label': 'surprise', 'score': 0.002286937553435564},\n",
       "  {'label': 'anger', 'score': 0.0018428878393024206},\n",
       "  {'label': 'joy', 'score': 0.0017338756006211042}],\n",
       " [{'label': 'joy', 'score': 0.932798445224762},\n",
       "  {'label': 'disgust', 'score': 0.0377168171107769},\n",
       "  {'label': 'neutral', 'score': 0.015891803428530693},\n",
       "  {'label': 'sadness', 'score': 0.006444480270147324},\n",
       "  {'label': 'anger', 'score': 0.005024945829063654},\n",
       "  {'label': 'surprise', 'score': 0.0015812049387022853},\n",
       "  {'label': 'fear', 'score': 0.0005423048860393465}],\n",
       " [{'label': 'joy', 'score': 0.6528708338737488},\n",
       "  {'label': 'neutral', 'score': 0.25427478551864624},\n",
       "  {'label': 'surprise', 'score': 0.06808284670114517},\n",
       "  {'label': 'sadness', 'score': 0.009908987209200859},\n",
       "  {'label': 'disgust', 'score': 0.0065122200176119804},\n",
       "  {'label': 'anger', 'score': 0.004821304697543383},\n",
       "  {'label': 'fear', 'score': 0.0035290175583213568}],\n",
       " [{'label': 'neutral', 'score': 0.5494771003723145},\n",
       "  {'label': 'sadness', 'score': 0.11169007420539856},\n",
       "  {'label': 'disgust', 'score': 0.10400661826133728},\n",
       "  {'label': 'surprise', 'score': 0.07876546680927277},\n",
       "  {'label': 'anger', 'score': 0.06413359194993973},\n",
       "  {'label': 'fear', 'score': 0.051362793892621994},\n",
       "  {'label': 'joy', 'score': 0.04056438058614731}]]"
      ]
     },
     "execution_count": 6,
     "metadata": {},
     "output_type": "execute_result"
    }
   ],
   "execution_count": 6
  },
  {
   "metadata": {
    "ExecuteTime": {
     "end_time": "2025-08-15T05:18:39.399989Z",
     "start_time": "2025-08-15T05:18:38.173173Z"
    }
   },
   "cell_type": "code",
   "source": [
    "sentences = books[\"description\"][0].split(\".\")\n",
    "predictions = classifier(sentences)"
   ],
   "id": "aa96cc49744fa817",
   "outputs": [],
   "execution_count": 7
  },
  {
   "metadata": {
    "ExecuteTime": {
     "end_time": "2025-08-15T05:18:39.446782Z",
     "start_time": "2025-08-15T05:18:39.441028Z"
    }
   },
   "cell_type": "code",
   "source": "sentences[0]",
   "id": "61254a0d5e247aef",
   "outputs": [
    {
     "data": {
      "text/plain": [
       "'A NOVEL THAT READERS and critics have been eagerly anticipating for over a decade, Gilead is an astonishingly imagined story of remarkable lives'"
      ]
     },
     "execution_count": 8,
     "metadata": {},
     "output_type": "execute_result"
    }
   ],
   "execution_count": 8
  },
  {
   "metadata": {
    "ExecuteTime": {
     "end_time": "2025-08-15T05:18:39.657051Z",
     "start_time": "2025-08-15T05:18:39.643373Z"
    }
   },
   "cell_type": "code",
   "source": "predictions[0]",
   "id": "9c96361d4896ab57",
   "outputs": [
    {
     "data": {
      "text/plain": [
       "[{'label': 'surprise', 'score': 0.7296020984649658},\n",
       " {'label': 'neutral', 'score': 0.14038600027561188},\n",
       " {'label': 'fear', 'score': 0.06816228479146957},\n",
       " {'label': 'joy', 'score': 0.04794260859489441},\n",
       " {'label': 'anger', 'score': 0.009156366810202599},\n",
       " {'label': 'disgust', 'score': 0.0026284765917807817},\n",
       " {'label': 'sadness', 'score': 0.002122163539752364}]"
      ]
     },
     "execution_count": 9,
     "metadata": {},
     "output_type": "execute_result"
    }
   ],
   "execution_count": 9
  },
  {
   "metadata": {
    "ExecuteTime": {
     "end_time": "2025-08-15T05:18:40.039518Z",
     "start_time": "2025-08-15T05:18:40.030272Z"
    }
   },
   "cell_type": "code",
   "source": "sentences[3]",
   "id": "f1e3b5f45bdc2894",
   "outputs": [
    {
     "data": {
      "text/plain": [
       "' Haunted by his grandfather’s presence, John tells of the rift between his grandfather and his father: the elder, an angry visionary who fought for the abolitionist cause, and his son, an ardent pacifist'"
      ]
     },
     "execution_count": 10,
     "metadata": {},
     "output_type": "execute_result"
    }
   ],
   "execution_count": 10
  },
  {
   "metadata": {
    "ExecuteTime": {
     "end_time": "2025-08-15T05:18:40.127141Z",
     "start_time": "2025-08-15T05:18:40.117866Z"
    }
   },
   "cell_type": "code",
   "source": "predictions[3]",
   "id": "3607ec11c491410b",
   "outputs": [
    {
     "data": {
      "text/plain": [
       "[{'label': 'fear', 'score': 0.9281681180000305},\n",
       " {'label': 'anger', 'score': 0.032191041857004166},\n",
       " {'label': 'neutral', 'score': 0.01280867587774992},\n",
       " {'label': 'sadness', 'score': 0.008756861090660095},\n",
       " {'label': 'surprise', 'score': 0.008597906678915024},\n",
       " {'label': 'disgust', 'score': 0.008431818336248398},\n",
       " {'label': 'joy', 'score': 0.0010455837473273277}]"
      ]
     },
     "execution_count": 11,
     "metadata": {},
     "output_type": "execute_result"
    }
   ],
   "execution_count": 11
  },
  {
   "metadata": {
    "ExecuteTime": {
     "end_time": "2025-08-15T05:18:40.250092Z",
     "start_time": "2025-08-15T05:18:40.238647Z"
    }
   },
   "cell_type": "code",
   "source": "sorted(predictions[0], key=lambda x: x[\"label\"])",
   "id": "557ff8af2b646bf8",
   "outputs": [
    {
     "data": {
      "text/plain": [
       "[{'label': 'anger', 'score': 0.009156366810202599},\n",
       " {'label': 'disgust', 'score': 0.0026284765917807817},\n",
       " {'label': 'fear', 'score': 0.06816228479146957},\n",
       " {'label': 'joy', 'score': 0.04794260859489441},\n",
       " {'label': 'neutral', 'score': 0.14038600027561188},\n",
       " {'label': 'sadness', 'score': 0.002122163539752364},\n",
       " {'label': 'surprise', 'score': 0.7296020984649658}]"
      ]
     },
     "execution_count": 12,
     "metadata": {},
     "output_type": "execute_result"
    }
   ],
   "execution_count": 12
  },
  {
   "metadata": {
    "ExecuteTime": {
     "end_time": "2025-08-15T05:18:40.378839Z",
     "start_time": "2025-08-15T05:18:40.369302Z"
    }
   },
   "cell_type": "code",
   "source": [
    "import numpy as np\n",
    "\n",
    "emotion_labels = [\"anger\", \"disgust\", \"fear\", \"joy\", \"sadness\", \"surprise\", \"neutral\"]\n",
    "isbn = []\n",
    "emotion_scores = {label: [] for label in emotion_labels}\n",
    "\n",
    "def calculate_max_emotion_scores(predictions):\n",
    "    per_emotion_scores = {label: [] for label in emotion_labels}\n",
    "    for prediction in predictions:\n",
    "        sorted_predictions = sorted(prediction, key=lambda x: x[\"label\"])\n",
    "        for index, label in enumerate(emotion_labels):\n",
    "            per_emotion_scores[label].append(sorted_predictions[index][\"score\"])\n",
    "    return {label: np.max(scores) for label, scores in per_emotion_scores.items()}"
   ],
   "id": "6c9d2ec4d3acf22f",
   "outputs": [],
   "execution_count": 13
  },
  {
   "metadata": {
    "ExecuteTime": {
     "end_time": "2025-08-15T05:18:45.613837Z",
     "start_time": "2025-08-15T05:18:40.545709Z"
    }
   },
   "cell_type": "code",
   "source": [
    "for i in range(10):\n",
    "    isbn.append(books[\"isbn13\"][i])\n",
    "    sentences = books[\"description\"][i].split(\".\")\n",
    "    predictions = classifier(sentences)\n",
    "    max_scores = calculate_max_emotion_scores(predictions)\n",
    "    for label in emotion_labels:\n",
    "        emotion_scores[label].append(max_scores[label])"
   ],
   "id": "9d8bc46c653c7d1e",
   "outputs": [],
   "execution_count": 14
  },
  {
   "metadata": {
    "ExecuteTime": {
     "end_time": "2025-08-15T05:18:45.833953Z",
     "start_time": "2025-08-15T05:18:45.810071Z"
    }
   },
   "cell_type": "code",
   "source": "emotion_scores",
   "id": "76747f23054e9dea",
   "outputs": [
    {
     "data": {
      "text/plain": [
       "{'anger': [np.float64(0.06413359194993973),\n",
       "  np.float64(0.6126202344894409),\n",
       "  np.float64(0.06413359194993973),\n",
       "  np.float64(0.35148438811302185),\n",
       "  np.float64(0.08141235262155533),\n",
       "  np.float64(0.2322249710559845),\n",
       "  np.float64(0.5381842255592346),\n",
       "  np.float64(0.06413359194993973),\n",
       "  np.float64(0.3006700277328491),\n",
       "  np.float64(0.06413359194993973)],\n",
       " 'disgust': [np.float64(0.27359163761138916),\n",
       "  np.float64(0.3482847511768341),\n",
       "  np.float64(0.10400661826133728),\n",
       "  np.float64(0.1507224589586258),\n",
       "  np.float64(0.18449543416500092),\n",
       "  np.float64(0.727174699306488),\n",
       "  np.float64(0.155854731798172),\n",
       "  np.float64(0.10400661826133728),\n",
       "  np.float64(0.2794816195964813),\n",
       "  np.float64(0.17792661488056183)],\n",
       " 'fear': [np.float64(0.9281681180000305),\n",
       "  np.float64(0.9425276517868042),\n",
       "  np.float64(0.9723208546638489),\n",
       "  np.float64(0.3607059419155121),\n",
       "  np.float64(0.09504340589046478),\n",
       "  np.float64(0.051362793892621994),\n",
       "  np.float64(0.7474274635314941),\n",
       "  np.float64(0.4044976532459259),\n",
       "  np.float64(0.9155241250991821),\n",
       "  np.float64(0.051362793892621994)],\n",
       " 'joy': [np.float64(0.932798445224762),\n",
       "  np.float64(0.7044219970703125),\n",
       "  np.float64(0.7672380805015564),\n",
       "  np.float64(0.2518811821937561),\n",
       "  np.float64(0.04056438058614731),\n",
       "  np.float64(0.043375786393880844),\n",
       "  np.float64(0.872565746307373),\n",
       "  np.float64(0.04056438058614731),\n",
       "  np.float64(0.04056438058614731),\n",
       "  np.float64(0.04056438058614731)],\n",
       " 'sadness': [np.float64(0.6462159752845764),\n",
       "  np.float64(0.887939453125),\n",
       "  np.float64(0.5494771003723145),\n",
       "  np.float64(0.7326844930648804),\n",
       "  np.float64(0.8843896985054016),\n",
       "  np.float64(0.621392011642456),\n",
       "  np.float64(0.7121941447257996),\n",
       "  np.float64(0.5494771003723145),\n",
       "  np.float64(0.840289294719696),\n",
       "  np.float64(0.8603723645210266)],\n",
       " 'surprise': [np.float64(0.9671575427055359),\n",
       "  np.float64(0.11169007420539856),\n",
       "  np.float64(0.11169007420539856),\n",
       "  np.float64(0.11169007420539856),\n",
       "  np.float64(0.47588059306144714),\n",
       "  np.float64(0.11169007420539856),\n",
       "  np.float64(0.40800127387046814),\n",
       "  np.float64(0.8202826380729675),\n",
       "  np.float64(0.35446077585220337),\n",
       "  np.float64(0.11169007420539856)],\n",
       " 'neutral': [np.float64(0.7296020984649658),\n",
       "  np.float64(0.252546101808548),\n",
       "  np.float64(0.07876546680927277),\n",
       "  np.float64(0.07876546680927277),\n",
       "  np.float64(0.07876546680927277),\n",
       "  np.float64(0.27190330624580383),\n",
       "  np.float64(0.07876546680927277),\n",
       "  np.float64(0.2344866842031479),\n",
       "  np.float64(0.13561423122882843),\n",
       "  np.float64(0.07876546680927277)]}"
      ]
     },
     "execution_count": 15,
     "metadata": {},
     "output_type": "execute_result"
    }
   ],
   "execution_count": 15
  },
  {
   "metadata": {
    "ExecuteTime": {
     "end_time": "2025-08-15T05:42:13.757741Z",
     "start_time": "2025-08-15T05:19:05.982920Z"
    }
   },
   "cell_type": "code",
   "source": [
    "from tqdm import tqdm\n",
    "\n",
    "emotion_labels = [\"anger\", \"disgust\", \"fear\", \"joy\", \"sadness\", \"surprise\", \"neutral\"]\n",
    "isbn = []\n",
    "emotion_scores = {label: [] for label in emotion_labels}\n",
    "\n",
    "for i in tqdm(range(len(books))):\n",
    "    isbn.append(books[\"isbn13\"][i])\n",
    "    sentences = books[\"description\"][i].split(\".\")\n",
    "    predictions = classifier(sentences)\n",
    "    max_scores = calculate_max_emotion_scores(predictions)\n",
    "    for label in emotion_labels:\n",
    "        emotion_scores[label].append(max_scores[label])"
   ],
   "id": "1e2cf93f8089e56b",
   "outputs": [
    {
     "name": "stderr",
     "output_type": "stream",
     "text": [
      "100%|██████████| 5197/5197 [23:07<00:00,  3.74it/s]  \n"
     ]
    }
   ],
   "execution_count": 17
  },
  {
   "metadata": {
    "ExecuteTime": {
     "end_time": "2025-08-15T05:44:23.192167Z",
     "start_time": "2025-08-15T05:44:23.041056Z"
    }
   },
   "cell_type": "code",
   "source": [
    "emotion_df = pd.DataFrame(emotion_scores)\n",
    "emotion_df[\"isbn13\"] = isbn"
   ],
   "id": "5391a7bf3a144656",
   "outputs": [],
   "execution_count": 18
  },
  {
   "metadata": {
    "ExecuteTime": {
     "end_time": "2025-08-15T05:44:48.035232Z",
     "start_time": "2025-08-15T05:44:47.921424Z"
    }
   },
   "cell_type": "code",
   "source": "emotion_df.head()",
   "id": "325a6d53d23ec04d",
   "outputs": [
    {
     "data": {
      "text/plain": [
       "      anger   disgust      fear       joy   sadness  surprise   neutral  \\\n",
       "0  0.064134  0.273592  0.928168  0.932798  0.646216  0.967158  0.729602   \n",
       "1  0.612620  0.348285  0.942528  0.704422  0.887939  0.111690  0.252546   \n",
       "2  0.064134  0.104007  0.972321  0.767238  0.549477  0.111690  0.078765   \n",
       "3  0.351484  0.150722  0.360706  0.251881  0.732684  0.111690  0.078765   \n",
       "4  0.081412  0.184495  0.095043  0.040564  0.884390  0.475881  0.078765   \n",
       "\n",
       "          isbn13  \n",
       "0  9780002005883  \n",
       "1  9780002261982  \n",
       "2  9780006178736  \n",
       "3  9780006280897  \n",
       "4  9780006280934  "
      ],
      "text/html": [
       "<div>\n",
       "<style scoped>\n",
       "    .dataframe tbody tr th:only-of-type {\n",
       "        vertical-align: middle;\n",
       "    }\n",
       "\n",
       "    .dataframe tbody tr th {\n",
       "        vertical-align: top;\n",
       "    }\n",
       "\n",
       "    .dataframe thead th {\n",
       "        text-align: right;\n",
       "    }\n",
       "</style>\n",
       "<table border=\"1\" class=\"dataframe\">\n",
       "  <thead>\n",
       "    <tr style=\"text-align: right;\">\n",
       "      <th></th>\n",
       "      <th>anger</th>\n",
       "      <th>disgust</th>\n",
       "      <th>fear</th>\n",
       "      <th>joy</th>\n",
       "      <th>sadness</th>\n",
       "      <th>surprise</th>\n",
       "      <th>neutral</th>\n",
       "      <th>isbn13</th>\n",
       "    </tr>\n",
       "  </thead>\n",
       "  <tbody>\n",
       "    <tr>\n",
       "      <th>0</th>\n",
       "      <td>0.064134</td>\n",
       "      <td>0.273592</td>\n",
       "      <td>0.928168</td>\n",
       "      <td>0.932798</td>\n",
       "      <td>0.646216</td>\n",
       "      <td>0.967158</td>\n",
       "      <td>0.729602</td>\n",
       "      <td>9780002005883</td>\n",
       "    </tr>\n",
       "    <tr>\n",
       "      <th>1</th>\n",
       "      <td>0.612620</td>\n",
       "      <td>0.348285</td>\n",
       "      <td>0.942528</td>\n",
       "      <td>0.704422</td>\n",
       "      <td>0.887939</td>\n",
       "      <td>0.111690</td>\n",
       "      <td>0.252546</td>\n",
       "      <td>9780002261982</td>\n",
       "    </tr>\n",
       "    <tr>\n",
       "      <th>2</th>\n",
       "      <td>0.064134</td>\n",
       "      <td>0.104007</td>\n",
       "      <td>0.972321</td>\n",
       "      <td>0.767238</td>\n",
       "      <td>0.549477</td>\n",
       "      <td>0.111690</td>\n",
       "      <td>0.078765</td>\n",
       "      <td>9780006178736</td>\n",
       "    </tr>\n",
       "    <tr>\n",
       "      <th>3</th>\n",
       "      <td>0.351484</td>\n",
       "      <td>0.150722</td>\n",
       "      <td>0.360706</td>\n",
       "      <td>0.251881</td>\n",
       "      <td>0.732684</td>\n",
       "      <td>0.111690</td>\n",
       "      <td>0.078765</td>\n",
       "      <td>9780006280897</td>\n",
       "    </tr>\n",
       "    <tr>\n",
       "      <th>4</th>\n",
       "      <td>0.081412</td>\n",
       "      <td>0.184495</td>\n",
       "      <td>0.095043</td>\n",
       "      <td>0.040564</td>\n",
       "      <td>0.884390</td>\n",
       "      <td>0.475881</td>\n",
       "      <td>0.078765</td>\n",
       "      <td>9780006280934</td>\n",
       "    </tr>\n",
       "  </tbody>\n",
       "</table>\n",
       "</div>"
      ]
     },
     "execution_count": 19,
     "metadata": {},
     "output_type": "execute_result"
    }
   ],
   "execution_count": 19
  },
  {
   "metadata": {
    "ExecuteTime": {
     "end_time": "2025-08-15T05:45:37.071373Z",
     "start_time": "2025-08-15T05:45:36.901630Z"
    }
   },
   "cell_type": "code",
   "source": "books = pd.merge(books, emotion_df, on=\"isbn13\")",
   "id": "3a3ee2f759e52e0b",
   "outputs": [],
   "execution_count": 20
  },
  {
   "metadata": {
    "ExecuteTime": {
     "end_time": "2025-08-15T05:45:55.502672Z",
     "start_time": "2025-08-15T05:45:55.462210Z"
    }
   },
   "cell_type": "code",
   "source": "books.head()",
   "id": "1fb8b51c23f455f1",
   "outputs": [
    {
     "data": {
      "text/plain": [
       "          isbn13      isbn10                title  \\\n",
       "0  9780002005883  0002005883               Gilead   \n",
       "1  9780002261982  0002261987         Spider's Web   \n",
       "2  9780006178736  0006178731       Rage of angels   \n",
       "3  9780006280897  0006280897       The Four Loves   \n",
       "4  9780006280934  0006280935  The Problem of Pain   \n",
       "\n",
       "                           authors                     categories  \\\n",
       "0               Marilynne Robinson                        Fiction   \n",
       "1  Charles Osborne;Agatha Christie  Detective and mystery stories   \n",
       "2                   Sidney Sheldon                        Fiction   \n",
       "3              Clive Staples Lewis                 Christian life   \n",
       "4              Clive Staples Lewis                 Christian life   \n",
       "\n",
       "                                           thumbnail  \\\n",
       "0  http://books.google.com/books/content?id=KQZCP...   \n",
       "1  http://books.google.com/books/content?id=gA5GP...   \n",
       "2  http://books.google.com/books/content?id=FKo2T...   \n",
       "3  http://books.google.com/books/content?id=XhQ5X...   \n",
       "4  http://books.google.com/books/content?id=Kk-uV...   \n",
       "\n",
       "                                         description  published_year  \\\n",
       "0  A NOVEL THAT READERS and critics have been eag...          2004.0   \n",
       "1  A new 'Christie for Christmas' -- a full-lengt...          2000.0   \n",
       "2  A memorable, mesmerizing heroine Jennifer -- b...          1993.0   \n",
       "3  Lewis' work on the nature of love divides love...          2002.0   \n",
       "4  \"In The Problem of Pain, C.S. Lewis, one of th...          2002.0   \n",
       "\n",
       "   average_rating  num_pages  ...     title_and_subtitle  \\\n",
       "0            3.85      247.0  ...                 Gilead   \n",
       "1            3.83      241.0  ...  Spider's Web: A Novel   \n",
       "2            3.93      512.0  ...         Rage of angels   \n",
       "3            4.15      170.0  ...         The Four Loves   \n",
       "4            4.09      176.0  ...    The Problem of Pain   \n",
       "\n",
       "                                  tagged_description simple_categories  \\\n",
       "0  9780002005883 A NOVEL THAT READERS and critics...           Fiction   \n",
       "1  9780002261982 A new 'Christie for Christmas' -...           Fiction   \n",
       "2  9780006178736 A memorable, mesmerizing heroine...           Fiction   \n",
       "3  9780006280897 Lewis' work on the nature of lov...        Nonfiction   \n",
       "4  9780006280934 \"In The Problem of Pain, C.S. Le...        Nonfiction   \n",
       "\n",
       "      anger   disgust      fear       joy   sadness  surprise   neutral  \n",
       "0  0.064134  0.273592  0.928168  0.932798  0.646216  0.967158  0.729602  \n",
       "1  0.612620  0.348285  0.942528  0.704422  0.887939  0.111690  0.252546  \n",
       "2  0.064134  0.104007  0.972321  0.767238  0.549477  0.111690  0.078765  \n",
       "3  0.351484  0.150722  0.360706  0.251881  0.732684  0.111690  0.078765  \n",
       "4  0.081412  0.184495  0.095043  0.040564  0.884390  0.475881  0.078765  \n",
       "\n",
       "[5 rows x 21 columns]"
      ],
      "text/html": [
       "<div>\n",
       "<style scoped>\n",
       "    .dataframe tbody tr th:only-of-type {\n",
       "        vertical-align: middle;\n",
       "    }\n",
       "\n",
       "    .dataframe tbody tr th {\n",
       "        vertical-align: top;\n",
       "    }\n",
       "\n",
       "    .dataframe thead th {\n",
       "        text-align: right;\n",
       "    }\n",
       "</style>\n",
       "<table border=\"1\" class=\"dataframe\">\n",
       "  <thead>\n",
       "    <tr style=\"text-align: right;\">\n",
       "      <th></th>\n",
       "      <th>isbn13</th>\n",
       "      <th>isbn10</th>\n",
       "      <th>title</th>\n",
       "      <th>authors</th>\n",
       "      <th>categories</th>\n",
       "      <th>thumbnail</th>\n",
       "      <th>description</th>\n",
       "      <th>published_year</th>\n",
       "      <th>average_rating</th>\n",
       "      <th>num_pages</th>\n",
       "      <th>...</th>\n",
       "      <th>title_and_subtitle</th>\n",
       "      <th>tagged_description</th>\n",
       "      <th>simple_categories</th>\n",
       "      <th>anger</th>\n",
       "      <th>disgust</th>\n",
       "      <th>fear</th>\n",
       "      <th>joy</th>\n",
       "      <th>sadness</th>\n",
       "      <th>surprise</th>\n",
       "      <th>neutral</th>\n",
       "    </tr>\n",
       "  </thead>\n",
       "  <tbody>\n",
       "    <tr>\n",
       "      <th>0</th>\n",
       "      <td>9780002005883</td>\n",
       "      <td>0002005883</td>\n",
       "      <td>Gilead</td>\n",
       "      <td>Marilynne Robinson</td>\n",
       "      <td>Fiction</td>\n",
       "      <td>http://books.google.com/books/content?id=KQZCP...</td>\n",
       "      <td>A NOVEL THAT READERS and critics have been eag...</td>\n",
       "      <td>2004.0</td>\n",
       "      <td>3.85</td>\n",
       "      <td>247.0</td>\n",
       "      <td>...</td>\n",
       "      <td>Gilead</td>\n",
       "      <td>9780002005883 A NOVEL THAT READERS and critics...</td>\n",
       "      <td>Fiction</td>\n",
       "      <td>0.064134</td>\n",
       "      <td>0.273592</td>\n",
       "      <td>0.928168</td>\n",
       "      <td>0.932798</td>\n",
       "      <td>0.646216</td>\n",
       "      <td>0.967158</td>\n",
       "      <td>0.729602</td>\n",
       "    </tr>\n",
       "    <tr>\n",
       "      <th>1</th>\n",
       "      <td>9780002261982</td>\n",
       "      <td>0002261987</td>\n",
       "      <td>Spider's Web</td>\n",
       "      <td>Charles Osborne;Agatha Christie</td>\n",
       "      <td>Detective and mystery stories</td>\n",
       "      <td>http://books.google.com/books/content?id=gA5GP...</td>\n",
       "      <td>A new 'Christie for Christmas' -- a full-lengt...</td>\n",
       "      <td>2000.0</td>\n",
       "      <td>3.83</td>\n",
       "      <td>241.0</td>\n",
       "      <td>...</td>\n",
       "      <td>Spider's Web: A Novel</td>\n",
       "      <td>9780002261982 A new 'Christie for Christmas' -...</td>\n",
       "      <td>Fiction</td>\n",
       "      <td>0.612620</td>\n",
       "      <td>0.348285</td>\n",
       "      <td>0.942528</td>\n",
       "      <td>0.704422</td>\n",
       "      <td>0.887939</td>\n",
       "      <td>0.111690</td>\n",
       "      <td>0.252546</td>\n",
       "    </tr>\n",
       "    <tr>\n",
       "      <th>2</th>\n",
       "      <td>9780006178736</td>\n",
       "      <td>0006178731</td>\n",
       "      <td>Rage of angels</td>\n",
       "      <td>Sidney Sheldon</td>\n",
       "      <td>Fiction</td>\n",
       "      <td>http://books.google.com/books/content?id=FKo2T...</td>\n",
       "      <td>A memorable, mesmerizing heroine Jennifer -- b...</td>\n",
       "      <td>1993.0</td>\n",
       "      <td>3.93</td>\n",
       "      <td>512.0</td>\n",
       "      <td>...</td>\n",
       "      <td>Rage of angels</td>\n",
       "      <td>9780006178736 A memorable, mesmerizing heroine...</td>\n",
       "      <td>Fiction</td>\n",
       "      <td>0.064134</td>\n",
       "      <td>0.104007</td>\n",
       "      <td>0.972321</td>\n",
       "      <td>0.767238</td>\n",
       "      <td>0.549477</td>\n",
       "      <td>0.111690</td>\n",
       "      <td>0.078765</td>\n",
       "    </tr>\n",
       "    <tr>\n",
       "      <th>3</th>\n",
       "      <td>9780006280897</td>\n",
       "      <td>0006280897</td>\n",
       "      <td>The Four Loves</td>\n",
       "      <td>Clive Staples Lewis</td>\n",
       "      <td>Christian life</td>\n",
       "      <td>http://books.google.com/books/content?id=XhQ5X...</td>\n",
       "      <td>Lewis' work on the nature of love divides love...</td>\n",
       "      <td>2002.0</td>\n",
       "      <td>4.15</td>\n",
       "      <td>170.0</td>\n",
       "      <td>...</td>\n",
       "      <td>The Four Loves</td>\n",
       "      <td>9780006280897 Lewis' work on the nature of lov...</td>\n",
       "      <td>Nonfiction</td>\n",
       "      <td>0.351484</td>\n",
       "      <td>0.150722</td>\n",
       "      <td>0.360706</td>\n",
       "      <td>0.251881</td>\n",
       "      <td>0.732684</td>\n",
       "      <td>0.111690</td>\n",
       "      <td>0.078765</td>\n",
       "    </tr>\n",
       "    <tr>\n",
       "      <th>4</th>\n",
       "      <td>9780006280934</td>\n",
       "      <td>0006280935</td>\n",
       "      <td>The Problem of Pain</td>\n",
       "      <td>Clive Staples Lewis</td>\n",
       "      <td>Christian life</td>\n",
       "      <td>http://books.google.com/books/content?id=Kk-uV...</td>\n",
       "      <td>\"In The Problem of Pain, C.S. Lewis, one of th...</td>\n",
       "      <td>2002.0</td>\n",
       "      <td>4.09</td>\n",
       "      <td>176.0</td>\n",
       "      <td>...</td>\n",
       "      <td>The Problem of Pain</td>\n",
       "      <td>9780006280934 \"In The Problem of Pain, C.S. Le...</td>\n",
       "      <td>Nonfiction</td>\n",
       "      <td>0.081412</td>\n",
       "      <td>0.184495</td>\n",
       "      <td>0.095043</td>\n",
       "      <td>0.040564</td>\n",
       "      <td>0.884390</td>\n",
       "      <td>0.475881</td>\n",
       "      <td>0.078765</td>\n",
       "    </tr>\n",
       "  </tbody>\n",
       "</table>\n",
       "<p>5 rows × 21 columns</p>\n",
       "</div>"
      ]
     },
     "execution_count": 22,
     "metadata": {},
     "output_type": "execute_result"
    }
   ],
   "execution_count": 22
  },
  {
   "metadata": {
    "ExecuteTime": {
     "end_time": "2025-08-15T05:47:25.350714Z",
     "start_time": "2025-08-15T05:47:25.056294Z"
    }
   },
   "cell_type": "code",
   "source": "books.to_csv(\"books_with_emotions.csv\", index=False)",
   "id": "9f10b34763d94a0f",
   "outputs": [],
   "execution_count": 23
  }
 ],
 "metadata": {
  "kernelspec": {
   "display_name": "Python 3",
   "language": "python",
   "name": "python3"
  },
  "language_info": {
   "codemirror_mode": {
    "name": "ipython",
    "version": 2
   },
   "file_extension": ".py",
   "mimetype": "text/x-python",
   "name": "python",
   "nbconvert_exporter": "python",
   "pygments_lexer": "ipython2",
   "version": "2.7.6"
  }
 },
 "nbformat": 4,
 "nbformat_minor": 5
}
